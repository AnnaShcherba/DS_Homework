{
 "cells": [
  {
   "cell_type": "code",
   "execution_count": 4,
   "metadata": {},
   "outputs": [
    {
     "name": "stdout",
     "output_type": "stream",
     "text": [
      "Hello, word!!!\n",
      "\n",
      "Hello, word 2!!!\n"
     ]
    }
   ],
   "source": [
    "#\n",
    "f = open(r'text.txt')\n",
    "print(f.read())\n",
    "\n",
    "f.close()"
   ]
  },
  {
   "cell_type": "code",
   "execution_count": 5,
   "metadata": {},
   "outputs": [
    {
     "name": "stdout",
     "output_type": "stream",
     "text": [
      "['Hello, word!!!\\n', '\\n', 'Hello, word 2!!!']\n"
     ]
    }
   ],
   "source": [
    "f = open(r'text.txt')\n",
    "l = f.readlines()\n",
    "print(l)\n",
    "f.close()"
   ]
  },
  {
   "cell_type": "code",
   "execution_count": null,
   "metadata": {},
   "outputs": [],
   "source": [
    "f = open(r'text.txt')\n",
    "for line in f:\n",
    "    print(line)\n",
    "\n",
    "f.close()"
   ]
  },
  {
   "cell_type": "code",
   "execution_count": null,
   "metadata": {},
   "outputs": [],
   "source": [
    "\n",
    "for line in open(r'text.txt'):\n",
    "    print(line)\n",
    "\n"
   ]
  },
  {
   "cell_type": "code",
   "execution_count": 7,
   "metadata": {},
   "outputs": [
    {
     "name": "stdout",
     "output_type": "stream",
     "text": [
      "Hello, wor\n"
     ]
    }
   ],
   "source": [
    "with open(r'text.txt') as f:\n",
    "    print(f.read(10))"
   ]
  },
  {
   "cell_type": "code",
   "execution_count": 9,
   "metadata": {},
   "outputs": [],
   "source": [
    "with open('text.txt', 'w') as f:\n",
    "    f.write('aaaaa bbbbb')"
   ]
  },
  {
   "cell_type": "code",
   "execution_count": 12,
   "metadata": {},
   "outputs": [],
   "source": [
    "with open('text.txt', 'a') as f:\n",
    "    f.write('\\n' + 'Hello word!')"
   ]
  },
  {
   "cell_type": "code",
   "execution_count": 53,
   "metadata": {},
   "outputs": [],
   "source": [
    "with open('text.txt', 'r+') as f:\n",
    "    \n",
    "    f.write('123')\n",
    "    "
   ]
  },
  {
   "cell_type": "code",
   "execution_count": 72,
   "metadata": {},
   "outputs": [],
   "source": [
    "f = open('text.txt', encoding = 'utf-8')\n",
    "\n",
    "base = {}\n",
    "\n",
    "for line in f:\n",
    "    l = line.split('|')\n",
    "    if l[0] != 'Артикул':\n",
    "        base[l[0]] = [l[1], l[2], float(l[3].rstrip(' грн\\n'))]\n",
    "        "
   ]
  },
  {
   "cell_type": "code",
   "execution_count": 73,
   "metadata": {},
   "outputs": [
    {
     "name": "stdout",
     "output_type": "stream",
     "text": [
      "Кількість товару в наявності = 9\n"
     ]
    }
   ],
   "source": [
    "i = 0\n",
    "for k,v in base.items():\n",
    "    if v[1] == 'В наличии':\n",
    "        i = i + 1\n",
    "        \n",
    "print('Кількість товару в наявності =', i)"
   ]
  },
  {
   "cell_type": "code",
   "execution_count": 76,
   "metadata": {},
   "outputs": [
    {
     "data": {
      "text/plain": [
       "['Антифриз BIZOL G12+ красный (концентрант) 5л', 'В наличии', 798.0]"
      ]
     },
     "execution_count": 76,
     "metadata": {},
     "output_type": "execute_result"
    }
   ],
   "source": [
    "base[max(base, key = lambda el: base[el][2])]"
   ]
  },
  {
   "cell_type": "code",
   "execution_count": 79,
   "metadata": {},
   "outputs": [
    {
     "name": "stdout",
     "output_type": "stream",
     "text": [
      "B81431 798.0\n"
     ]
    }
   ],
   "source": [
    "my_max = 0\n",
    "part = None\n",
    "for k,v in base.items():\n",
    "    if my_max < v[2]:\n",
    "        my_max = v[2]\n",
    "        part = k\n",
    "print(part, my_max) \n",
    "    "
   ]
  }
 ],
 "metadata": {
  "kernelspec": {
   "display_name": "Python 3",
   "language": "python",
   "name": "python3"
  },
  "language_info": {
   "codemirror_mode": {
    "name": "ipython",
    "version": 3
   },
   "file_extension": ".py",
   "mimetype": "text/x-python",
   "name": "python",
   "nbconvert_exporter": "python",
   "pygments_lexer": "ipython3",
   "version": "3.7.6"
  }
 },
 "nbformat": 4,
 "nbformat_minor": 4
}
